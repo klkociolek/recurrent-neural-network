{
 "cells": [
  {
   "cell_type": "code",
   "execution_count": 3,
   "id": "376f13c6-8683-4dca-8ddf-9fbd29bf63d7",
   "metadata": {
    "tags": []
   },
   "outputs": [
    {
     "name": "stdout",
     "output_type": "stream",
     "text": [
      "Epoch: 1\n",
      "Train accuracy: 0.6426\n",
      "Epoch: 2\n",
      "Train accuracy: 0.8283\n",
      "Epoch: 3\n",
      "Train accuracy: 0.8718\n",
      "Epoch: 4\n",
      "Train accuracy: 0.8911\n",
      "Epoch: 5\n",
      "Train accuracy: 0.9021\n",
      "135.051066 seconds (176.78 M allocations: 84.490 GiB, 29.06% gc time, 0.61% compilation time)\n",
      "Test accuracy: 0.9098\n",
      "\n"
     ]
    }
   ],
   "source": [
    "using MLDatasets: MNIST\n",
    "using Flux\n",
    "include(\"RNN_AD/rnn.jl\")\n",
    "\n",
    "train_data = MNIST(:train)\n",
    "test_data = MNIST(:test)\n",
    "\n",
    "x_train = Float32.(reshape(train_data.features, 28 * 28, :)) \n",
    "y_train = Flux.onehotbatch(train_data.targets, 0:9)\n",
    "x_test = Float32.(reshape(test_data.features, 28 * 28, :))  \n",
    "y_test = Flux.onehotbatch(test_data.targets, 0:9)\n",
    "\n",
    "rnn_settings = (\n",
    "    input = UInt32(14*14),\n",
    "    hidden = UInt32(64),\n",
    "    output = UInt32(10),\n",
    ")\n",
    "\n",
    "settings = (\n",
    "    eta = Float32(15e-3),\n",
    "    epochs = UInt32(5),\n",
    "    batch_size = UInt32(100),\n",
    ")\n",
    "\n",
    "wxh = Variable(xavier_init( rnn_settings.hidden,rnn_settings.input)) \n",
    "dense1 = Variable(xavier_init( rnn_settings.output,rnn_settings.hidden))\n",
    "whh=Variable(zeros(Float32,rnn_settings.hidden,rnn_settings.hidden))\n",
    "b = Variable(zeros(Float32, rnn_settings.hidden))\n",
    "net = RNN_(wxh,whh,b, dense1)\n",
    "\n",
    "train(net, x_train, y_train, settings,rnn_settings)\n",
    "test(net, x_test, y_test,rnn_settings)"
   ]
  }
 ],
 "metadata": {
  "kernelspec": {
   "display_name": "Julia 1.10.3",
   "language": "julia",
   "name": "julia-1.10"
  },
  "language_info": {
   "file_extension": ".jl",
   "mimetype": "application/julia",
   "name": "julia",
   "version": "1.10.3"
  }
 },
 "nbformat": 4,
 "nbformat_minor": 5
}
