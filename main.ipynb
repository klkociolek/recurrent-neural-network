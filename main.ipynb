{
 "cells": [
  {
   "cell_type": "code",
   "execution_count": 6,
   "id": "376f13c6-8683-4dca-8ddf-9fbd29bf63d7",
   "metadata": {
    "tags": []
   },
   "outputs": [
    {
     "name": "stdout",
     "output_type": "stream",
     "text": [
      "Epoch: 1\n",
      "Train accuracy: 0.7005\n",
      "Epoch: 2\n",
      "Train accuracy: 0.8581\n",
      "Epoch: 3\n",
      "Train accuracy: 0.8881\n",
      "Epoch: 4\n",
      "Train accuracy: 0.9013\n",
      "Epoch: 5\n",
      "Train accuracy: 0.9101\n",
      "134.950624 seconds (183.40 M allocations: 85.050 GiB, 31.85% gc time, 0.68% compilation time: 1% of which was recompilation)\n",
      "Test accuracy: 0.9169\n",
      "\n"
     ]
    }
   ],
   "source": [
    "using MLDatasets: MNIST\n",
    "using Flux\n",
    "include(\"RNN_AD/rnn.jl\")\n",
    "\n",
    "train_data = MNIST(:train)\n",
    "test_data = MNIST(:test)\n",
    "\n",
    "x_train = Float32.(reshape(train_data.features, 28 * 28, :)) \n",
    "y_train = Flux.onehotbatch(train_data.targets, 0:9)\n",
    "x_test = Float32.(reshape(test_data.features, 28 * 28, :))  \n",
    "y_test = Flux.onehotbatch(test_data.targets, 0:9)\n",
    "\n",
    "rnn_settings = (\n",
    "    input = UInt32(14*14),\n",
    "    hidden = UInt32(64),\n",
    "    output = UInt32(10),\n",
    ")\n",
    "\n",
    "settings = (\n",
    "    eta = Float32(15e-3),\n",
    "    epochs = UInt32(5),\n",
    "    batch_size = UInt32(100),\n",
    ")\n",
    "\n",
    "activation_fun_rnn=tanh #tanh relu identity\n",
    "activation_fun_dense=identity\n",
    "\n",
    "wxh = Variable(xavier_init( rnn_settings.hidden,rnn_settings.input)) \n",
    "whh=Variable(zeros(Float32,rnn_settings.hidden,rnn_settings.hidden))\n",
    "b = Variable(zeros(Float32, rnn_settings.hidden))\n",
    "dense1 = Variable(xavier_init( rnn_settings.output,rnn_settings.hidden))\n",
    "dense_b = Variable(zeros(Float32, rnn_settings.output))\n",
    "net = RNN_(wxh,whh,b, dense1,dense_b)\n",
    "\n",
    "train(net, x_train, y_train, settings,rnn_settings,activation_fun_rnn,activation_fun_dense)\n",
    "test(net, x_test, y_test,rnn_settings,activation_fun_rnn,activation_fun_dense)"
   ]
  },
  {
   "cell_type": "code",
   "execution_count": null,
   "id": "8c185ce1-ac49-46f0-9857-e8fb9df6a793",
   "metadata": {},
   "outputs": [],
   "source": []
  }
 ],
 "metadata": {
  "kernelspec": {
   "display_name": "Julia 1.10.3",
   "language": "julia",
   "name": "julia-1.10"
  },
  "language_info": {
   "file_extension": ".jl",
   "mimetype": "application/julia",
   "name": "julia",
   "version": "1.10.3"
  }
 },
 "nbformat": 4,
 "nbformat_minor": 5
}
