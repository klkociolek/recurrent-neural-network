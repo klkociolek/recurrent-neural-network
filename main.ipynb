{
 "cells": [
  {
   "cell_type": "code",
   "execution_count": null,
   "id": "e4d3271a-201f-48da-ad47-897d36b9abaf",
   "metadata": {
    "tags": []
   },
   "outputs": [
    {
     "name": "stdout",
     "output_type": "stream",
     "text": [
      "Epoch: 1\n",
      "   Average loss: 1.2766\n",
      "   Train accuracy: 0.6360\n",
      "Epoch: 2\n",
      "   Average loss: 0.5997\n",
      "   Train accuracy: 0.8350\n",
      "Epoch: 3\n"
     ]
    }
   ],
   "source": [
    "using MLDatasets: MNIST\n",
    "using Flux\n",
    "include(\"AD/model.jl\")\n",
    "\n",
    "train_data = MNIST(:train)\n",
    "test_data = MNIST(:test)\n",
    "\n",
    "x_train = reshape(train_data.features, 28 * 28, :) \n",
    "y_train = Flux.onehotbatch(train_data.targets, 0:9)\n",
    "x_test = reshape(test_data.features, 28 * 28, :)  \n",
    "y_test = Flux.onehotbatch(test_data.targets, 0:9)\n",
    "\n",
    "wxh = Variable(xavier_init(64, 14*14), name=\"wxh\") \n",
    "dense1 = Variable(xavier_init(10, 64), name=\"dense1\")\n",
    "whh=Variable(zeros(64,64), name=\"whh\")\n",
    "net = RNN_(wxh,whh, dense1)\n",
    "\n",
    "settings = (;\n",
    "    eta = 15e-3,\n",
    "    epochs = 5,\n",
    "    batch_size = 100,\n",
    ")\n",
    "\n",
    "train(net, x_train, y_train, settings.epochs, settings.batch_size, settings.eta)\n",
    "test(net, x_test, y_test)"
   ]
  },
  {
   "cell_type": "code",
   "execution_count": null,
   "id": "42f98d85-866b-4ec8-881e-085917d26c41",
   "metadata": {},
   "outputs": [],
   "source": []
  }
 ],
 "metadata": {
  "kernelspec": {
   "display_name": "Julia 1.10.3",
   "language": "julia",
   "name": "julia-1.10"
  },
  "language_info": {
   "file_extension": ".jl",
   "mimetype": "application/julia",
   "name": "julia",
   "version": "1.10.3"
  }
 },
 "nbformat": 4,
 "nbformat_minor": 5
}
