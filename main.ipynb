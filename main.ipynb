{
 "cells": [
  {
   "cell_type": "code",
   "execution_count": 12,
   "id": "376f13c6-8683-4dca-8ddf-9fbd29bf63d7",
   "metadata": {
    "tags": []
   },
   "outputs": [
    {
     "name": "stdout",
     "output_type": "stream",
     "text": [
      "Epoch: 1\n",
      "   Average loss: 1.2776\n",
      "   Train accuracy: 0.6183\n",
      "Epoch: 2\n",
      "   Average loss: 0.6046\n",
      "   Train accuracy: 0.8319\n",
      "Epoch: 3\n",
      "   Average loss: 0.4470\n",
      "   Train accuracy: 0.8767\n",
      "Epoch: 4\n",
      "   Average loss: 0.3801\n",
      "   Train accuracy: 0.8942\n",
      "Epoch: 5\n",
      "   Average loss: 0.3405\n",
      "   Train accuracy: 0.9043\n",
      "150.525330 seconds (178.00 M allocations: 84.898 GiB, 33.16% gc time, 0.81% compilation time)\n",
      "Test accuracy: 0.9055\n",
      "\n"
     ]
    }
   ],
   "source": [
    "using MLDatasets: MNIST\n",
    "using Flux\n",
    "include(\"AD/model.jl\")\n",
    "\n",
    "train_data = MNIST(:train)\n",
    "test_data = MNIST(:test)\n",
    "\n",
    "x_train = Float32.(reshape(train_data.features, 28 * 28, :)) \n",
    "y_train = Flux.onehotbatch(train_data.targets, 0:9)\n",
    "x_test = Float32.(reshape(test_data.features, 28 * 28, :))  \n",
    "y_test = Flux.onehotbatch(test_data.targets, 0:9)\n",
    "\n",
    "rnn_settings= (;\n",
    "    input = 14*14,\n",
    "    hidden = 64,\n",
    "    output = 10,\n",
    ")\n",
    "\n",
    "wxh = Variable(xavier_init( rnn_settings.hidden,rnn_settings.input)) \n",
    "dense1 = Variable(xavier_init( rnn_settings.output,rnn_settings.hidden))\n",
    "whh=Variable(zeros(Float32,rnn_settings.hidden,rnn_settings.hidden))\n",
    "b = Variable(zeros(Float32, rnn_settings.hidden))\n",
    "net = RNN_(wxh,whh,b, dense1)\n",
    "\n",
    "#x_train = x_train[:,  1:5000]\n",
    "#y_train = y_train[:, 1:5000]\n",
    "#x_test = x_test[:, 1:5000]\n",
    "#y_test = y_test[:, 1:5000]\n",
    "\n",
    "settings = (;\n",
    "    eta = 15e-3,\n",
    "    epochs = 5,\n",
    "    batch_size = 100,\n",
    ")\n",
    "\n",
    "train(net, x_train, y_train, settings,rnn_settings)\n",
    "test(net, x_test, y_test,rnn_settings)"
   ]
  },
  {
   "cell_type": "code",
   "execution_count": 21,
   "id": "e43b5d71-eda2-4213-b330-ed71e7e0d407",
   "metadata": {
    "tags": []
   },
   "outputs": [
    {
     "data": {
      "text/plain": [
       "Float32"
      ]
     },
     "execution_count": 21,
     "metadata": {},
     "output_type": "execute_result"
    }
   ],
   "source": [
    "\n",
    "typeof(Float32(15e-3))"
   ]
  },
  {
   "cell_type": "code",
   "execution_count": 15,
   "id": "6e8d820a-b2bf-4473-a6a5-a7942a6c97a2",
   "metadata": {
    "tags": []
   },
   "outputs": [
    {
     "data": {
      "text/plain": [
       "0.4082483f0"
      ]
     },
     "execution_count": 15,
     "metadata": {},
     "output_type": "execute_result"
    }
   ],
   "source": [
    "Float32(sqrt(2.0 / 12))"
   ]
  },
  {
   "cell_type": "code",
   "execution_count": 25,
   "id": "85a362d4-2b25-4973-bbe7-c0033ffd85d4",
   "metadata": {
    "tags": []
   },
   "outputs": [
    {
     "data": {
      "text/plain": [
       "train_plot (generic function with 1 method)"
      ]
     },
     "execution_count": 25,
     "metadata": {},
     "output_type": "execute_result"
    }
   ],
   "source": [
    "function train_plot(rnn::RNN_, x::Any, y::Any, settings,rnn_settings)\n",
    "    # Define an array to store loss values\n",
    "    losses = Float64[]\n",
    "\n",
    "    samples =  size(x, 2)\n",
    "    if size(x, 1)%rnn_settings.input != 0\n",
    "        println(\"Size/input rest of division needs to be 0\")\n",
    "    end\n",
    "    rnn_cells= Int( size(x, 1)/rnn_settings.input)\n",
    "    \n",
    "    x_train = [Constant(zeros(rnn_settings.input)) for _ in 1:rnn_cells]\n",
    "    y_train = Constant(zeros(rnn_settings.output))\n",
    "    \n",
    "    @time for i in 1:settings.epochs\n",
    "        \n",
    "        epoch_loss = 0.0\n",
    "        global correct_prediction = 0\n",
    "        global cumulative = 0\n",
    "\n",
    "        println(\"Epoch: \", i)\n",
    "\n",
    "        for j in 1:samples\n",
    "            \n",
    "            for k in 1:rnn_cells\n",
    "                @views x_train[k].output .= x[rnn_settings.input * (k - 1) + 1:rnn_settings.input * k, j]\n",
    "            end\n",
    "            @views y_train.output .= y[:, j]\n",
    "            \n",
    "            h = Variable(zeros(rnn_settings.hidden), name=\"h0\")\n",
    "            for k in 1:rnn_cells\n",
    "                h = recurrent(x_train[k], rnn.wxh, h, rnn.whh) |> tanh\n",
    "            end\n",
    "\n",
    "            d1 = dense(h, rnn.dense1) |> identity\n",
    "            e = cross_entropy_loss(d1, y_train)\n",
    "            graph= topological_sort(e)\n",
    "\n",
    "            epoch_loss += forward!(graph)\n",
    "            \n",
    "            backward!(graph)\n",
    "\n",
    "            if j % settings.batch_size == 0\n",
    "                update_weights!(graph, settings.eta, settings.batch_size)\n",
    "            end\n",
    "        end\n",
    "\n",
    "        # Compute average loss per sample\n",
    "        avg_loss = epoch_loss / samples\n",
    "        push!(losses, avg_loss)\n",
    "        \n",
    "        @printf(\"   Average loss: %.4f\\n\", avg_loss)\n",
    "        @printf(\"   Train accuracy: %.4f\\n\", correct_prediction / cumulative)\n",
    "    end\n",
    "    \n",
    "    # Plot loss over iterations\n",
    "    plot(losses, xlabel=\"Iteration\", ylabel=\"Loss\", title=\"Loss Over Iterations\", legend=false)\n",
    "    return losses\n",
    "    \n",
    "end"
   ]
  },
  {
   "cell_type": "code",
   "execution_count": 2,
   "id": "019de6b9-9695-44a0-a761-5da4faca4da7",
   "metadata": {},
   "outputs": [
    {
     "data": {
      "text/plain": [
       "Variable([0.0, 0.0, 0.0, 0.0, 0.0, 0.0, 0.0, 0.0, 0.0, 0.0  …  0.0, 0.0, 0.0, 0.0, 0.0, 0.0, 0.0, 0.0, 0.0, 0.0], nothing, nothing)"
      ]
     },
     "execution_count": 2,
     "metadata": {},
     "output_type": "execute_result"
    }
   ],
   "source": [
    "b"
   ]
  },
  {
   "cell_type": "code",
   "execution_count": 26,
   "id": "00d82be1-3f5f-4b77-a8cd-67671c38c48a",
   "metadata": {},
   "outputs": [
    {
     "name": "stdout",
     "output_type": "stream",
     "text": [
      "  0.110869 seconds (16 allocations: 358.887 MiB)\n",
      "  0.000111 seconds (3 allocations: 234.453 KiB)\n",
      "  0.062011 seconds (5 allocations: 59.815 MiB, 68.59% gc time)\n",
      "  0.000035 seconds (3 allocations: 39.141 KiB)\n"
     ]
    },
    {
     "data": {
      "text/plain": [
       "10×10000 OneHotMatrix(::Vector{UInt32}) with eltype Bool:\n",
       " ⋅  ⋅  ⋅  1  ⋅  ⋅  ⋅  ⋅  ⋅  ⋅  1  ⋅  ⋅  …  ⋅  ⋅  ⋅  ⋅  ⋅  1  ⋅  ⋅  ⋅  ⋅  ⋅  ⋅\n",
       " ⋅  ⋅  1  ⋅  ⋅  1  ⋅  ⋅  ⋅  ⋅  ⋅  ⋅  ⋅     ⋅  ⋅  ⋅  ⋅  ⋅  ⋅  1  ⋅  ⋅  ⋅  ⋅  ⋅\n",
       " ⋅  1  ⋅  ⋅  ⋅  ⋅  ⋅  ⋅  ⋅  ⋅  ⋅  ⋅  ⋅     ⋅  ⋅  ⋅  ⋅  ⋅  ⋅  ⋅  1  ⋅  ⋅  ⋅  ⋅\n",
       " ⋅  ⋅  ⋅  ⋅  ⋅  ⋅  ⋅  ⋅  ⋅  ⋅  ⋅  ⋅  ⋅     ⋅  ⋅  ⋅  ⋅  ⋅  ⋅  ⋅  ⋅  1  ⋅  ⋅  ⋅\n",
       " ⋅  ⋅  ⋅  ⋅  1  ⋅  1  ⋅  ⋅  ⋅  ⋅  ⋅  ⋅     ⋅  ⋅  ⋅  ⋅  ⋅  ⋅  ⋅  ⋅  ⋅  1  ⋅  ⋅\n",
       " ⋅  ⋅  ⋅  ⋅  ⋅  ⋅  ⋅  ⋅  1  ⋅  ⋅  ⋅  ⋅  …  1  ⋅  ⋅  ⋅  ⋅  ⋅  ⋅  ⋅  ⋅  ⋅  1  ⋅\n",
       " ⋅  ⋅  ⋅  ⋅  ⋅  ⋅  ⋅  ⋅  ⋅  ⋅  ⋅  1  ⋅     ⋅  1  ⋅  ⋅  ⋅  ⋅  ⋅  ⋅  ⋅  ⋅  ⋅  1\n",
       " 1  ⋅  ⋅  ⋅  ⋅  ⋅  ⋅  ⋅  ⋅  ⋅  ⋅  ⋅  ⋅     ⋅  ⋅  1  ⋅  ⋅  ⋅  ⋅  ⋅  ⋅  ⋅  ⋅  ⋅\n",
       " ⋅  ⋅  ⋅  ⋅  ⋅  ⋅  ⋅  ⋅  ⋅  ⋅  ⋅  ⋅  ⋅     ⋅  ⋅  ⋅  1  ⋅  ⋅  ⋅  ⋅  ⋅  ⋅  ⋅  ⋅\n",
       " ⋅  ⋅  ⋅  ⋅  ⋅  ⋅  ⋅  1  ⋅  1  ⋅  ⋅  1     ⋅  ⋅  ⋅  ⋅  1  ⋅  ⋅  ⋅  ⋅  ⋅  ⋅  ⋅"
      ]
     },
     "execution_count": 26,
     "metadata": {},
     "output_type": "execute_result"
    }
   ],
   "source": [
    "using MLDatasets: MNIST\n",
    "using Flux\n",
    "include(\"AD/model.jl\")\n",
    "\n",
    "train_data = MNIST(:train)\n",
    "test_data = MNIST(:test)\n",
    "\n",
    "\n",
    "\n",
    "@time x_train = Float64.(reshape(train_data.features, 28 * 28, :)) \n",
    "@time y_train = Flux.onehotbatch(train_data.targets, 0:9)\n",
    "@time x_test = Float64.(reshape(test_data.features, 28 * 28, :))  \n",
    "@time y_test = Flux.onehotbatch(test_data.targets, 0:9)"
   ]
  },
  {
   "cell_type": "code",
   "execution_count": 27,
   "id": "3a9882d8-b028-4ad7-bf6d-e234b9a5c62d",
   "metadata": {
    "tags": []
   },
   "outputs": [
    {
     "data": {
      "text/plain": [
       "784×60000 SparseMatrixCSC{Float64, Int64} with 8994156 stored entries:\n",
       "⎡⣿⣿⣷⣿⣷⣾⣿⣿⣿⣿⣿⣿⣿⣿⣿⣷⣿⣿⣿⣿⣾⣿⣿⣷⣿⣿⣾⣷⣿⣿⣿⣿⣿⣿⣿⣿⣿⣿⣿⣷⎤\n",
       "⎣⣿⣿⣿⣿⣿⣿⣿⣿⣿⣿⣿⣿⣿⣿⣿⣿⣿⣿⣿⣿⣿⣿⣿⣿⣿⣿⣿⣿⣿⣿⣿⣿⣿⣿⣿⣿⣿⣿⣿⣿⎦"
      ]
     },
     "execution_count": 27,
     "metadata": {},
     "output_type": "execute_result"
    }
   ],
   "source": [
    "@time sparse(x_train)"
   ]
  },
  {
   "cell_type": "code",
   "execution_count": 29,
   "id": "0af6e124-d067-4a1a-be7c-c49a77550a62",
   "metadata": {
    "tags": []
   },
   "outputs": [
    {
     "name": "stdout",
     "output_type": "stream",
     "text": [
      "  0.157371 seconds (7 allocations: 137.698 MiB, 22.73% gc time)\n"
     ]
    },
    {
     "data": {
      "text/plain": [
       "784×60000 SparseMatrixCSC{Float64, Int64} with 8994156 stored entries:\n",
       "⎡⣿⣿⣷⣿⣷⣾⣿⣿⣿⣿⣿⣿⣿⣿⣿⣷⣿⣿⣿⣿⣾⣿⣿⣷⣿⣿⣾⣷⣿⣿⣿⣿⣿⣿⣿⣿⣿⣿⣿⣷⎤\n",
       "⎣⣿⣿⣿⣿⣿⣿⣿⣿⣿⣿⣿⣿⣿⣿⣿⣿⣿⣿⣿⣿⣿⣿⣿⣿⣿⣿⣿⣿⣿⣿⣿⣿⣿⣿⣿⣿⣿⣿⣿⣿⎦"
      ]
     },
     "execution_count": 29,
     "metadata": {},
     "output_type": "execute_result"
    }
   ],
   "source": [
    "@time sparse(x_train)"
   ]
  },
  {
   "cell_type": "code",
   "execution_count": 6,
   "id": "c73f7109-01a6-4570-8c97-88575dbb1e1d",
   "metadata": {
    "tags": []
   },
   "outputs": [
    {
     "data": {
      "text/plain": [
       "784×5000 Matrix{Float64}:\n",
       " 0.0  0.0  0.0  0.0  0.0  0.0  0.0  0.0  …  0.0  0.0  0.0  0.0  0.0  0.0  0.0\n",
       " 0.0  0.0  0.0  0.0  0.0  0.0  0.0  0.0     0.0  0.0  0.0  0.0  0.0  0.0  0.0\n",
       " 0.0  0.0  0.0  0.0  0.0  0.0  0.0  0.0     0.0  0.0  0.0  0.0  0.0  0.0  0.0\n",
       " 0.0  0.0  0.0  0.0  0.0  0.0  0.0  0.0     0.0  0.0  0.0  0.0  0.0  0.0  0.0\n",
       " 0.0  0.0  0.0  0.0  0.0  0.0  0.0  0.0     0.0  0.0  0.0  0.0  0.0  0.0  0.0\n",
       " 0.0  0.0  0.0  0.0  0.0  0.0  0.0  0.0  …  0.0  0.0  0.0  0.0  0.0  0.0  0.0\n",
       " 0.0  0.0  0.0  0.0  0.0  0.0  0.0  0.0     0.0  0.0  0.0  0.0  0.0  0.0  0.0\n",
       " 0.0  0.0  0.0  0.0  0.0  0.0  0.0  0.0     0.0  0.0  0.0  0.0  0.0  0.0  0.0\n",
       " 0.0  0.0  0.0  0.0  0.0  0.0  0.0  0.0     0.0  0.0  0.0  0.0  0.0  0.0  0.0\n",
       " 0.0  0.0  0.0  0.0  0.0  0.0  0.0  0.0     0.0  0.0  0.0  0.0  0.0  0.0  0.0\n",
       " 0.0  0.0  0.0  0.0  0.0  0.0  0.0  0.0  …  0.0  0.0  0.0  0.0  0.0  0.0  0.0\n",
       " 0.0  0.0  0.0  0.0  0.0  0.0  0.0  0.0     0.0  0.0  0.0  0.0  0.0  0.0  0.0\n",
       " 0.0  0.0  0.0  0.0  0.0  0.0  0.0  0.0     0.0  0.0  0.0  0.0  0.0  0.0  0.0\n",
       " ⋮                        ⋮              ⋱            ⋮                   \n",
       " 0.0  0.0  0.0  0.0  0.0  0.0  0.0  0.0     0.0  0.0  0.0  0.0  0.0  0.0  0.0\n",
       " 0.0  0.0  0.0  0.0  0.0  0.0  0.0  0.0     0.0  0.0  0.0  0.0  0.0  0.0  0.0\n",
       " 0.0  0.0  0.0  0.0  0.0  0.0  0.0  0.0     0.0  0.0  0.0  0.0  0.0  0.0  0.0\n",
       " 0.0  0.0  0.0  0.0  0.0  0.0  0.0  0.0  …  0.0  0.0  0.0  0.0  0.0  0.0  0.0\n",
       " 0.0  0.0  0.0  0.0  0.0  0.0  0.0  0.0     0.0  0.0  0.0  0.0  0.0  0.0  0.0\n",
       " 0.0  0.0  0.0  0.0  0.0  0.0  0.0  0.0     0.0  0.0  0.0  0.0  0.0  0.0  0.0\n",
       " 0.0  0.0  0.0  0.0  0.0  0.0  0.0  0.0     0.0  0.0  0.0  0.0  0.0  0.0  0.0\n",
       " 0.0  0.0  0.0  0.0  0.0  0.0  0.0  0.0     0.0  0.0  0.0  0.0  0.0  0.0  0.0\n",
       " 0.0  0.0  0.0  0.0  0.0  0.0  0.0  0.0  …  0.0  0.0  0.0  0.0  0.0  0.0  0.0\n",
       " 0.0  0.0  0.0  0.0  0.0  0.0  0.0  0.0     0.0  0.0  0.0  0.0  0.0  0.0  0.0\n",
       " 0.0  0.0  0.0  0.0  0.0  0.0  0.0  0.0     0.0  0.0  0.0  0.0  0.0  0.0  0.0\n",
       " 0.0  0.0  0.0  0.0  0.0  0.0  0.0  0.0     0.0  0.0  0.0  0.0  0.0  0.0  0.0"
      ]
     },
     "execution_count": 6,
     "metadata": {},
     "output_type": "execute_result"
    }
   ],
   "source": [
    "x_train = x_train[:,  1:5000]"
   ]
  },
  {
   "cell_type": "code",
   "execution_count": 13,
   "id": "927dbe61-6d06-4597-9dee-53180c73702e",
   "metadata": {
    "tags": []
   },
   "outputs": [
    {
     "data": {
      "text/plain": [
       "784×60000 SparseMatrixCSC{Float64, Int64} with 8994156 stored entries:\n",
       "⎡⣿⣿⣷⣿⣷⣾⣿⣿⣿⣿⣿⣿⣿⣿⣿⣷⣿⣿⣿⣿⣾⣿⣿⣷⣿⣿⣾⣷⣿⣿⣿⣿⣿⣿⣿⣿⣿⣿⣿⣷⎤\n",
       "⎣⣿⣿⣿⣿⣿⣿⣿⣿⣿⣿⣿⣿⣿⣿⣿⣿⣿⣿⣿⣿⣿⣿⣿⣿⣿⣿⣿⣿⣿⣿⣿⣿⣿⣿⣿⣿⣿⣿⣿⣿⎦"
      ]
     },
     "execution_count": 13,
     "metadata": {},
     "output_type": "execute_result"
    }
   ],
   "source": [
    "using SparseArrays \n",
    "x_train=sparse(x_train)"
   ]
  },
  {
   "cell_type": "code",
   "execution_count": 14,
   "id": "381c9a2b-7321-4924-b3b4-a62cfae8db74",
   "metadata": {
    "tags": []
   },
   "outputs": [
    {
     "data": {
      "text/plain": [
       "784×784 Matrix{Float64}:\n",
       "  0.000973476   0.0497486     0.0102124    …  -0.0420359     0.0205646\n",
       " -0.0129198    -0.0137566    -0.0268735        0.0173371     0.0432287\n",
       " -0.0352902    -0.0712763     0.0341737       -0.0405989    -0.0349429\n",
       "  0.0495393     0.0575855    -0.00336064      -0.00686282    0.0646963\n",
       " -0.0170074    -0.015863      0.0290565       -0.0245232    -0.0554046\n",
       "  0.0619421    -0.00287976   -0.0767534    …   0.0314432     0.0319532\n",
       "  0.0367079     0.0220681     0.0174309       -0.0621032     0.00394242\n",
       " -0.0906319    -0.00582968    0.00694899       0.0152242     0.0350668\n",
       "  0.0170347     0.0227409     0.00247228       0.0196739    -0.0114039\n",
       " -0.00765178   -0.0167262    -0.0527098        0.0565713     0.0263154\n",
       "  0.00202239   -0.00723195   -0.000264667  …   0.0479189    -0.154034\n",
       " -0.0066549    -0.03035      -0.0244575        0.0308314    -0.0331183\n",
       " -0.0076624    -0.00782464   -0.0430073       -0.000881689  -0.00335293\n",
       "  ⋮                                        ⋱                \n",
       "  0.00605821   -0.0294515     0.0464485        0.0594513    -0.055963\n",
       "  0.0135178    -0.0164054    -0.0564235        0.0523208    -0.0153109\n",
       " -0.0304488     0.0146415     0.0136826       -0.00278345   -0.00249453\n",
       "  0.00157469    0.000352594  -0.073102     …  -0.00646897   -0.0478462\n",
       " -0.0144091     0.00876375   -1.76041e-5      -0.0311104    -0.0498065\n",
       "  0.00621678   -0.0626592     0.0151545       -0.00926608   -0.0204887\n",
       " -0.0393824    -0.082018     -0.00190377      -0.0424206    -0.064994\n",
       "  0.00389246   -0.00240336   -0.0154255        0.0431795    -0.0130764\n",
       "  0.0408887     0.033674      0.0443162    …  -0.0159992    -0.0122\n",
       "  0.0346334    -0.0380749     0.00796308      -0.00109396    0.0803893\n",
       "  0.0201159     0.0274229    -0.0505495       -0.0249607     0.0287628\n",
       " -0.0075261     0.0117122     0.0166459       -0.0300617    -0.006247"
      ]
     },
     "execution_count": 14,
     "metadata": {},
     "output_type": "execute_result"
    }
   ],
   "source": [
    "xxx=randn(Float64,784, 784) * sqrt(2.0 / (784 + 784))"
   ]
  },
  {
   "cell_type": "code",
   "execution_count": 10,
   "id": "a568ffe8-d0cc-4e4d-a944-1b2711f90714",
   "metadata": {
    "tags": []
   },
   "outputs": [
    {
     "ename": "LoadError",
     "evalue": "ArgumentError: Package sparsearrays not found in current path.\n- Run `import Pkg; Pkg.add(\"sparsearrays\")` to install the sparsearrays package.",
     "output_type": "error",
     "traceback": [
      "ArgumentError: Package sparsearrays not found in current path.\n- Run `import Pkg; Pkg.add(\"sparsearrays\")` to install the sparsearrays package.",
      "",
      "Stacktrace:",
      " [1] macro expansion",
      "   @ .\\loading.jl:1772 [inlined]",
      " [2] macro expansion",
      "   @ .\\lock.jl:267 [inlined]",
      " [3] __require(into::Module, mod::Symbol)",
      "   @ Base .\\loading.jl:1753",
      " [4] #invoke_in_world#3",
      "   @ .\\essentials.jl:926 [inlined]",
      " [5] invoke_in_world",
      "   @ .\\essentials.jl:923 [inlined]",
      " [6] require(into::Module, mod::Symbol)",
      "   @ Base .\\loading.jl:1746"
     ]
    }
   ],
   "source": [
    "using sparsearrays"
   ]
  },
  {
   "cell_type": "code",
   "execution_count": 15,
   "id": "e31ae3d0-dc3e-40a4-865d-e05d3dff6c7e",
   "metadata": {
    "tags": []
   },
   "outputs": [
    {
     "data": {
      "text/plain": [
       "784×60000 SparseMatrixCSC{Float64, Int64} with 8994156 stored entries:\n",
       "⎡⣿⣿⣷⣿⣷⣾⣿⣿⣿⣿⣿⣿⣿⣿⣿⣷⣿⣿⣿⣿⣾⣿⣿⣷⣿⣿⣾⣷⣿⣿⣿⣿⣿⣿⣿⣿⣿⣿⣿⣷⎤\n",
       "⎣⣿⣿⣿⣿⣿⣿⣿⣿⣿⣿⣿⣿⣿⣿⣿⣿⣿⣿⣿⣿⣿⣿⣿⣿⣿⣿⣿⣿⣿⣿⣿⣿⣿⣿⣿⣿⣿⣿⣿⣿⎦"
      ]
     },
     "execution_count": 15,
     "metadata": {},
     "output_type": "execute_result"
    }
   ],
   "source": [
    "spar_x=sparse(x_train)"
   ]
  },
  {
   "cell_type": "code",
   "execution_count": 19,
   "id": "85e48e77-6fa9-42b2-aeb2-6764f508dd7f",
   "metadata": {
    "tags": []
   },
   "outputs": [
    {
     "name": "stdout",
     "output_type": "stream",
     "text": [
      "  1.560540 seconds (137.00 k allocations: 368.591 MiB, 1.10% gc time, 11.97% compilation time)\n",
      "  1.294785 seconds (2 allocations: 358.887 MiB)\n"
     ]
    },
    {
     "data": {
      "text/plain": [
       "784×60000 Matrix{Float64}:\n",
       " -0.445108   -0.107857    0.108578    …  -0.188393   -0.038572    0.049831\n",
       " -0.599415   -0.229959   -0.320074       -0.50759    -0.0101395  -0.762124\n",
       " -0.119565    0.0799112  -0.188346        0.292048   -0.340691   -0.171143\n",
       "  0.0405539  -0.525029   -0.690538       -0.321562    0.0514111  -0.27028\n",
       " -0.25839    -0.20474    -0.44793        -0.44824     0.164876    0.333853\n",
       "  0.127321    0.536699    0.180477    …   0.145287    0.294997    0.312422\n",
       " -0.0682627   0.149572   -0.278846       -0.154568   -0.0252376   0.0322067\n",
       " -0.343287   -0.159764    0.279803       -0.168627   -0.306666   -0.460444\n",
       " -0.720333   -0.423422   -0.229187       -0.262963   -0.32499     0.152529\n",
       " -0.300196   -0.60811    -0.336995       -0.162115   -0.290892   -0.0545371\n",
       "  0.203197    0.254024   -0.295336    …   0.0217827  -0.0120911   0.00289611\n",
       "  0.173536    0.761648    0.327596       -0.0194582   0.255458    0.0862209\n",
       "  0.126001   -0.184103    0.0923756      -0.126765    0.0325569  -0.108664\n",
       "  ⋮                                   ⋱                          \n",
       " -0.325987   -0.144458   -0.043165        0.237844    0.266519    0.194775\n",
       " -0.0920553  -0.73756     0.00580457     -0.319451   -0.467876   -0.491928\n",
       "  0.161983    0.119188    0.0756801       0.0115132   0.0134904   0.109384\n",
       "  0.379316    0.116917   -0.323163    …   0.132062   -0.0803889  -0.468537\n",
       "  0.189258   -0.241546    0.21424         0.0765727   0.158694    0.29567\n",
       "  0.403207    0.344026   -0.382118        0.336726    0.398731    0.36154\n",
       " -0.177281   -0.141119   -0.0367917      -0.0931058  -0.0871365   0.0422803\n",
       "  0.243417   -0.317401   -0.187055       -0.329587    0.11845    -0.174984\n",
       "  0.0441136  -0.139786    0.25044     …   0.0143623   0.252789   -0.0688991\n",
       " -0.247245   -0.181864   -0.581782       -0.102114   -0.21773    -0.0320492\n",
       " -0.642699    0.0996444  -0.130259       -0.452341   -0.230439   -0.0161246\n",
       " -0.173569   -0.234214    0.0721212       0.0308923  -0.197155   -0.0534485"
      ]
     },
     "execution_count": 19,
     "metadata": {},
     "output_type": "execute_result"
    }
   ],
   "source": [
    "@time xxx*spar_x\n",
    "@time xxx*x_train"
   ]
  },
  {
   "cell_type": "code",
   "execution_count": null,
   "id": "0ddf0235-cf1f-424f-b2a3-305f0d9fd645",
   "metadata": {},
   "outputs": [],
   "source": []
  }
 ],
 "metadata": {
  "kernelspec": {
   "display_name": "Julia 1.10.3",
   "language": "julia",
   "name": "julia-1.10"
  },
  "language_info": {
   "file_extension": ".jl",
   "mimetype": "application/julia",
   "name": "julia",
   "version": "1.10.3"
  }
 },
 "nbformat": 4,
 "nbformat_minor": 5
}
