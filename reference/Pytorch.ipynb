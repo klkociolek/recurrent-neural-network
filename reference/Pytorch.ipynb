{
 "cells": [
  {
   "cell_type": "code",
   "execution_count": 2,
   "id": "258e085c-93b3-439c-86de-5c416efccb11",
   "metadata": {
    "tags": []
   },
   "outputs": [
    {
     "name": "stdout",
     "output_type": "stream",
     "text": [
      "Epoch: 1,  Train Acc: 63.90%, Time: 18.36s\n",
      "Epoch: 2,  Train Acc: 82.87%, Time: 18.86s\n",
      "Epoch: 3,  Train Acc: 88.40%, Time: 20.24s\n",
      "Epoch: 4,  Train Acc: 90.57%, Time: 18.30s\n",
      "Epoch: 5,  Train Acc: 91.81%, Time: 19.01s\n"
     ]
    }
   ],
   "source": [
    "import torch\n",
    "import torch.nn as nn\n",
    "import torch.optim as optim\n",
    "from torchvision import datasets, transforms\n",
    "from torch.utils.data import DataLoader\n",
    "from torch.nn.functional import one_hot, cross_entropy\n",
    "import numpy as np\n",
    "import time\n",
    "\n",
    "transform = transforms.Compose([transforms.ToTensor(), transforms.Normalize((0.1307,), (0.3081,))])\n",
    "\n",
    "train_data = datasets.MNIST('../data', train=True, download=True, transform=transform)\n",
    "test_data = datasets.MNIST('../data', train=False, download=True, transform=transform)\n",
    "\n",
    "def loader(data, batchsize=1):\n",
    "    return DataLoader(data, batch_size=batchsize, shuffle=True)\n",
    "\n",
    "train_loader = loader(train_data, batchsize=100)\n",
    "test_loader = loader(test_data, batchsize=100)\n",
    "\n",
    "class RNNModel(nn.Module):\n",
    "    def __init__(self):\n",
    "        super(RNNModel, self).__init__()\n",
    "        self.rnn = nn.RNN(14 * 14, 64, batch_first=True, nonlinearity='tanh')\n",
    "        self.fc = nn.Linear(64, 10)\n",
    "    \n",
    "    def forward(self, x):\n",
    "        x = x.view(-1, 4, 14 * 14)\n",
    "        h0 = torch.zeros(1, x.size(0), 64).to(x.device)\n",
    "        out, _ = self.rnn(x, h0)\n",
    "        out = self.fc(out[:, -1, :])\n",
    "        return out\n",
    "\n",
    "net = RNNModel()\n",
    "\n",
    "settings = {\n",
    "    'eta': 15e-3,\n",
    "    'epochs': 5,\n",
    "    'batchsize': 100\n",
    "}\n",
    "\n",
    "device = torch.device(\"cuda\" if torch.cuda.is_available() else \"cpu\")\n",
    "net.to(device)\n",
    "optimizer = optim.SGD(net.parameters(), lr=settings['eta'])\n",
    "\n",
    "train_log = []\n",
    "\n",
    "for epoch in range(1, settings['epochs'] + 1):\n",
    "    start_time = time.time()\n",
    "    net.train()\n",
    "    correct = 0\n",
    "    total = 0\n",
    "    for batch_idx, (x, y) in enumerate(train_loader):\n",
    "        x, y = x.to(device), y.to(device)\n",
    "        optimizer.zero_grad()\n",
    "        y_pred = net(x)\n",
    "        loss = cross_entropy(y_pred, y)\n",
    "        loss.backward()\n",
    "        optimizer.step()\n",
    "        \n",
    "        correct += (y_pred.argmax(dim=1) == y).sum().item()\n",
    "        total += y.size(0)\n",
    "    \n",
    "    train_acc = 100.0 * correct / total\n",
    "    epoch_time = time.time() - start_time\n",
    "    print(f'Epoch: {epoch},  Train Acc: {train_acc:.2f}%, Time: {epoch_time:.2f}s')"
   ]
  },
  {
   "cell_type": "code",
   "execution_count": null,
   "id": "073cec20-289c-4031-a540-9892fd8ca15d",
   "metadata": {},
   "outputs": [],
   "source": []
  }
 ],
 "metadata": {
  "kernelspec": {
   "display_name": "Python 3 (ipykernel)",
   "language": "python",
   "name": "python3"
  },
  "language_info": {
   "codemirror_mode": {
    "name": "ipython",
    "version": 3
   },
   "file_extension": ".py",
   "mimetype": "text/x-python",
   "name": "python",
   "nbconvert_exporter": "python",
   "pygments_lexer": "ipython3",
   "version": "3.11.5"
  }
 },
 "nbformat": 4,
 "nbformat_minor": 5
}
